{
 "cells": [
  {
   "cell_type": "code",
   "execution_count": 1,
   "metadata": {},
   "outputs": [
    {
     "name": "stdout",
     "output_type": "stream",
     "text": [
      "   EstablishmentID  InspectionID Ins_TypeDesc       EstablishmentName  \\\n",
      "0            29956       1684470      REGULAR               CVS #6211   \n",
      "1            29967       1699737      REGULAR  NEIGHBORHOOD FOOD MART   \n",
      "2            30043       1637804      REGULAR         F&Y SUPERMARKET   \n",
      "3            30043       1637805      REGULAR         F&Y SUPERMARKET   \n",
      "4            30043       1700824     FOLLOWUP         F&Y SUPERMARKET   \n",
      "\n",
      "   PlaceName            Address  Address2        City State    Zip  \\\n",
      "0        NaN  3721 LEXINGTON RD       NaN  LOUISVILLE    KY  40207   \n",
      "1        NaN     542 LAMPTON ST       NaN  LOUISVILLE    KY  40203   \n",
      "2        NaN   3801 W MARKET ST       NaN  LOUISVILLE    KY  40212   \n",
      "3        NaN   3801 W MARKET ST       NaN  LOUISVILLE    KY  40212   \n",
      "4        NaN   3801 W MARKET ST       NaN  LOUISVILLE    KY  40212   \n",
      "\n",
      "                     TypeDescription       InspectionDate  score Grade  \\\n",
      "0                PRE-PACKAGED RETAIL  2022/07/06 00:00:00  100.0   NaN   \n",
      "1        SUPERMARKET WITH PROCESSING  2022/09/07 00:00:00   97.0   NaN   \n",
      "2  RETAIL-FOOD  10,000 SQ FT OR LESS  2021/11/22 00:00:00   94.0     A   \n",
      "3  RETAIL-FOOD  10,000 SQ FT OR LESS  2021/11/22 00:00:00   95.0   NaN   \n",
      "4  RETAIL-FOOD  10,000 SQ FT OR LESS  2022/09/12 00:00:00   98.0   NaN   \n",
      "\n",
      "               NameSearch  Intersection  OBJECTID  \n",
      "0               CVS #6211           NaN         0  \n",
      "1  NEIGHBORHOOD FOOD MART           NaN         1  \n",
      "2         F&Y SUPERMARKET           NaN         2  \n",
      "3         F&Y SUPERMARKET           NaN         3  \n",
      "4         F&Y SUPERMARKET           NaN         4  \n"
     ]
    }
   ],
   "source": [
    "import pandas as pd\n",
    "df = pd.read_csv('Louisville_Metro_KY_-_Restaurant_Inspection_Scores.csv')\n",
    "print(df.head())"
   ]
  }
 ],
 "metadata": {
  "kernelspec": {
   "display_name": "Python 3.10.6 64-bit",
   "language": "python",
   "name": "python3"
  },
  "language_info": {
   "codemirror_mode": {
    "name": "ipython",
    "version": 3
   },
   "file_extension": ".py",
   "mimetype": "text/x-python",
   "name": "python",
   "nbconvert_exporter": "python",
   "pygments_lexer": "ipython3",
   "version": "3.10.6"
  },
  "orig_nbformat": 4,
  "vscode": {
   "interpreter": {
    "hash": "aee8b7b246df8f9039afb4144a1f6fd8d2ca17a180786b69acc140d282b71a49"
   }
  }
 },
 "nbformat": 4,
 "nbformat_minor": 2
}
