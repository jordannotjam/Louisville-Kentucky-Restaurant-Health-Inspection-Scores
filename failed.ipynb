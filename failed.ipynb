{
 "cells": [
  {
   "cell_type": "code",
   "execution_count": 1,
   "metadata": {},
   "outputs": [
    {
     "name": "stdout",
     "output_type": "stream",
     "text": [
      "   EstablishmentID          InspectionDate  InspectionID   EstTypeDesc  \\\n",
      "0            34955  2018/02/23 05:00:00+00       1360487  FOOD SERVICE   \n",
      "1            34955  2018/02/23 05:00:00+00       1360487  FOOD SERVICE   \n",
      "2            34955  2018/02/23 05:00:00+00       1360487  FOOD SERVICE   \n",
      "3            76227  2018/03/30 04:00:00+00       1368843  FOOD SERVICE   \n",
      "4            34318  2018/04/16 04:00:00+00       1372786  FOOD SERVICE   \n",
      "\n",
      "              premise_name premise_adr1_num premise_adr1_street premise_city  \\\n",
      "0   BEARNO'S BY THE BRIDGE              133           W MAIN ST   LOUISVILLE   \n",
      "1   BEARNO'S BY THE BRIDGE              133           W MAIN ST   LOUISVILLE   \n",
      "2   BEARNO'S BY THE BRIDGE              133           W MAIN ST   LOUISVILLE   \n",
      "3  AFC SUSHI @ KROGER #743            12611     TAYLORSVILLE RD   LOUISVILLE   \n",
      "4     DOMINO'S PIZZA #1422             3951     TAYLORSVILLE RD   LOUISVILLE   \n",
      "\n",
      "  premise_state  premise_zip InspectionType  score  InspTypeSpecificViolID  \\\n",
      "0            KY        40202        REGULAR     65                      33   \n",
      "1            KY        40202        REGULAR     65                      19   \n",
      "2            KY        40202        REGULAR     65                      20   \n",
      "3            KY        40299        REGULAR     93                       3   \n",
      "4            KY        40220        REGULAR     86                      11   \n",
      "\n",
      "                                       ViolationDesc critical_yn  \\\n",
      "0         TOXIC ITEMS PROPERLY STORED, LABELED, USED         Yes   \n",
      "1  Food/Non-food contact surfaces of equip/utensi...          No   \n",
      "2  Storage, handling of clean equipment/utensils/...          No   \n",
      "3              POTENTIALLY HAZARDOUS FOOD-SAFE TEMP.         Yes   \n",
      "4  HANDS WASHED AND CLEAN,HYGIENIC PRACTICES PREV...         Yes   \n",
      "\n",
      "                                  Insp_Viol_Comments rpt_area_id  ObjectId  \n",
      "0  Toxic items not properly stored. (cleaning spr...         605         1  \n",
      "1  Non-food contact surfaces have accumulation of...         605         2  \n",
      "2  Improper display/storage of single service ite...         605         3  \n",
      "3  Potentially hazardous food not maintained at 4...         605         4  \n",
      "4  SAW BARE HAND CONTACTED WITH READY TO EAT FOOD...         605         5  \n"
     ]
    }
   ],
   "source": [
    "#import data\n",
    "import pandas as pd\n",
    "df = pd.read_csv('Louisville_Metro_KY_-_Inspection_Violations_of_Failed_Restaurants.csv')\n",
    "print(df.head())"
   ]
  }
 ],
 "metadata": {
  "kernelspec": {
   "display_name": "Python 3.10.6 ('venv': venv)",
   "language": "python",
   "name": "python3"
  },
  "language_info": {
   "codemirror_mode": {
    "name": "ipython",
    "version": 3
   },
   "file_extension": ".py",
   "mimetype": "text/x-python",
   "name": "python",
   "nbconvert_exporter": "python",
   "pygments_lexer": "ipython3",
   "version": "3.10.6"
  },
  "orig_nbformat": 4,
  "vscode": {
   "interpreter": {
    "hash": "7a2954224c77ebcfcbec732f652b602e65b688ad2311690deb9904b50aadec75"
   }
  }
 },
 "nbformat": 4,
 "nbformat_minor": 2
}
